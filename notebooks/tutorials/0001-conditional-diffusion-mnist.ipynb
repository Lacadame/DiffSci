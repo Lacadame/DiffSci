{
 "cells": [
  {
   "cell_type": "code",
   "execution_count": 7,
   "metadata": {},
   "outputs": [
    {
     "name": "stdout",
     "output_type": "stream",
     "text": [
      "The autoreload extension is already loaded. To reload it, use:\n",
      "  %reload_ext autoreload\n"
     ]
    }
   ],
   "source": [
    "%load_ext autoreload\n",
    "%autoreload 2"
   ]
  },
  {
   "cell_type": "code",
   "execution_count": 8,
   "metadata": {},
   "outputs": [],
   "source": [
    "import pathlib\n",
    "import multiprocessing\n",
    "\n",
    "import numpy as np\n",
    "import matplotlib.pyplot as plt\n",
    "import torch\n",
    "import torchvision\n",
    "import torchvision.transforms.v2 as transforms\n",
    "import lightning\n",
    "import lightning.pytorch.callbacks as callbacks\n",
    "\n",
    "import diffsci.models"
   ]
  },
  {
   "cell_type": "code",
   "execution_count": 9,
   "metadata": {},
   "outputs": [],
   "source": [
    "MAINFOLDER = pathlib.Path(\"../..\")  # This leads to the main folder\n",
    "DATAFOLDER = MAINFOLDER/\"saveddata\"  # This leads to the data folder\n",
    "MODELSFOLDER = MAINFOLDER/\"savedmodels\" #This leads to the models folder\n",
    "EXTERNALDATAFOLDER = DATAFOLDER/'external'  # This leads to the external data folder"
   ]
  },
  {
   "cell_type": "code",
   "execution_count": 37,
   "metadata": {},
   "outputs": [],
   "source": [
    "class UnlabeledMNISTDataset(torch.utils.data.Dataset):\n",
    "    def __init__(self, mnist_dataset):\n",
    "        self.mnist_dataset = mnist_dataset\n",
    "\n",
    "    def __len__(self):\n",
    "        return len(self.mnist_dataset)\n",
    "\n",
    "    def __getitem__(self, idx):\n",
    "        x, y = self.mnist_dataset[idx]\n",
    "        return x, y\n",
    "\n",
    "mnist_dataset = torchvision.datasets.MNIST(EXTERNALDATAFOLDER,\n",
    "                                           train=True,\n",
    "                                           transform=torchvision.transforms.ToTensor(),\n",
    "                                           download=True)\n",
    "\n",
    "unlabeled_mnist_dataset = UnlabeledMNISTDataset(mnist_dataset)\n"
   ]
  },
  {
   "cell_type": "code",
   "execution_count": 38,
   "metadata": {},
   "outputs": [],
   "source": [
    "batch_size = 16\n",
    "p_split = 0.8\n",
    "num_workers = multiprocessing.cpu_count() - 2\n",
    "\n",
    "num_train_dataset = int(len(unlabeled_mnist_dataset)*p_split)\n",
    "num_valid_dataset = len(unlabeled_mnist_dataset) - num_train_dataset\n",
    "train_dataset, val_dataset = torch.utils.data.random_split(unlabeled_mnist_dataset,\n",
    "                                                           [num_train_dataset, num_valid_dataset])\n",
    "train_dataloader = torch.utils.data.DataLoader(train_dataset,\n",
    "                                               batch_size=batch_size,\n",
    "                                               shuffle=True,\n",
    "                                               num_workers=num_workers)\n",
    "val_dataloader = torch.utils.data.DataLoader(val_dataset,\n",
    "                                             batch_size=batch_size,\n",
    "                                             shuffle=False,\n",
    "                                             num_workers=num_workers)"
   ]
  },
  {
   "cell_type": "code",
   "execution_count": 39,
   "metadata": {},
   "outputs": [
    {
     "data": {
      "text/plain": [
       "torch.Size([16])"
      ]
     },
     "execution_count": 39,
     "metadata": {},
     "output_type": "execute_result"
    }
   ],
   "source": [
    "next(iter(train_dataloader))[1].shape"
   ]
  },
  {
   "cell_type": "code",
   "execution_count": 59,
   "metadata": {},
   "outputs": [],
   "source": [
    "class SwiGLUMLP(torch.nn.Module):\n",
    "    def __init__(self,\n",
    "                 in_features,\n",
    "                 out_features,\n",
    "                 n_hidden):\n",
    "        super().__init__()\n",
    "        self.linear1 = torch.nn.Linear(in_features, 2 * n_hidden)\n",
    "        self.linear2 = torch.nn.Linear(n_hidden, out_features)\n",
    "\n",
    "    def forward(self, x):\n",
    "        y = self.linear1(x)\n",
    "        y = torch.chunk(y, 2, dim=-1)\n",
    "        y = torch.nn.functional.silu(y[0]) * y[1]\n",
    "        y = self.linear2(y)\n",
    "        return y\n",
    "\n",
    "\n",
    "class Embedder(torch.nn.Module):\n",
    "    def __init__(self,\n",
    "                 ntokens: int = 10,\n",
    "                 dembed: int = 32,\n",
    "                 ffn_expansion: int = 4,\n",
    "                 ):\n",
    "        super().__init__()\n",
    "        self.embedding = torch.nn.Embedding(ntokens, dembed)\n",
    "        self.net = SwiGLUMLP(dembed, dembed, dembed*ffn_expansion)\n",
    "\n",
    "    def forward(self, x):\n",
    "        xe = self.embedding(x)\n",
    "        y = self.net(xe)\n",
    "        return y + xe\n",
    "\n",
    "embedder = Embedder()\n"
   ]
  },
  {
   "cell_type": "code",
   "execution_count": 64,
   "metadata": {},
   "outputs": [],
   "source": [
    "modelconfig = diffsci.models.PUNetGConfig(model_channels=32)\n",
    "model = diffsci.models.PUNetG(modelconfig, conditional_embedding=embedder)\n",
    "moduleconfig = diffsci.models.KarrasModuleConfig.from_edm()\n",
    "module = diffsci.models.KarrasModule(model, moduleconfig, conditional=True)\n",
    "optimizer = torch.optim.Adam(module.parameters(), lr=2*1e-5)\n",
    "module.set_optimizer_and_scheduler(optimizer)"
   ]
  },
  {
   "cell_type": "code",
   "execution_count": 65,
   "metadata": {},
   "outputs": [
    {
     "name": "stderr",
     "output_type": "stream",
     "text": [
      "GPU available: True (cuda), used: True\n",
      "TPU available: False, using: 0 TPU cores\n",
      "HPU available: False, using: 0 HPUs\n",
      "LOCAL_RANK: 0 - CUDA_VISIBLE_DEVICES: [0]\n",
      "\n",
      "  | Name        | Type      | Params | Mode \n",
      "--------------------------------------------------\n",
      "0 | model       | PUNetG    | 2.8 M  | train\n",
      "1 | loss_metric | HuberLoss | 0      | train\n",
      "--------------------------------------------------\n",
      "2.8 M     Trainable params\n",
      "0         Non-trainable params\n",
      "2.8 M     Total params\n",
      "11.392    Total estimated model params size (MB)\n"
     ]
    },
    {
     "data": {
      "application/vnd.jupyter.widget-view+json": {
       "model_id": "92cf8a2dc01a40a9a430c3f86b55c72d",
       "version_major": 2,
       "version_minor": 0
      },
      "text/plain": [
       "Sanity Checking: |          | 0/? [00:00<?, ?it/s]"
      ]
     },
     "metadata": {},
     "output_type": "display_data"
    },
    {
     "data": {
      "application/vnd.jupyter.widget-view+json": {
       "model_id": "0f66d51e6d844f40b3601b93fbfee79b",
       "version_major": 2,
       "version_minor": 0
      },
      "text/plain": [
       "Training: |          | 0/? [00:00<?, ?it/s]"
      ]
     },
     "metadata": {},
     "output_type": "display_data"
    },
    {
     "data": {
      "application/vnd.jupyter.widget-view+json": {
       "model_id": "6352ca1c831249c4b54ae7eca1f0611d",
       "version_major": 2,
       "version_minor": 0
      },
      "text/plain": [
       "Validation: |          | 0/? [00:00<?, ?it/s]"
      ]
     },
     "metadata": {},
     "output_type": "display_data"
    },
    {
     "data": {
      "application/vnd.jupyter.widget-view+json": {
       "model_id": "9bf73a68e4e04eafab1f76ada1d1d8a6",
       "version_major": 2,
       "version_minor": 0
      },
      "text/plain": [
       "Validation: |          | 0/? [00:00<?, ?it/s]"
      ]
     },
     "metadata": {},
     "output_type": "display_data"
    },
    {
     "data": {
      "application/vnd.jupyter.widget-view+json": {
       "model_id": "d201789810134369970cb4f0695d47a6",
       "version_major": 2,
       "version_minor": 0
      },
      "text/plain": [
       "Validation: |          | 0/? [00:00<?, ?it/s]"
      ]
     },
     "metadata": {},
     "output_type": "display_data"
    },
    {
     "data": {
      "application/vnd.jupyter.widget-view+json": {
       "model_id": "cda4ffb562344717aa9f8c3c54913f7b",
       "version_major": 2,
       "version_minor": 0
      },
      "text/plain": [
       "Validation: |          | 0/? [00:00<?, ?it/s]"
      ]
     },
     "metadata": {},
     "output_type": "display_data"
    },
    {
     "data": {
      "application/vnd.jupyter.widget-view+json": {
       "model_id": "fd42cf123e034ceabd59e11c8fe8b056",
       "version_major": 2,
       "version_minor": 0
      },
      "text/plain": [
       "Validation: |          | 0/? [00:00<?, ?it/s]"
      ]
     },
     "metadata": {},
     "output_type": "display_data"
    },
    {
     "data": {
      "application/vnd.jupyter.widget-view+json": {
       "model_id": "8179c695fe9f4af187d411d44f673141",
       "version_major": 2,
       "version_minor": 0
      },
      "text/plain": [
       "Validation: |          | 0/? [00:00<?, ?it/s]"
      ]
     },
     "metadata": {},
     "output_type": "display_data"
    },
    {
     "data": {
      "application/vnd.jupyter.widget-view+json": {
       "model_id": "98f30d7d0ec0448bbcac9a7631cb5560",
       "version_major": 2,
       "version_minor": 0
      },
      "text/plain": [
       "Validation: |          | 0/? [00:00<?, ?it/s]"
      ]
     },
     "metadata": {},
     "output_type": "display_data"
    },
    {
     "data": {
      "application/vnd.jupyter.widget-view+json": {
       "model_id": "1df6525bc34a41d29de7b745da961254",
       "version_major": 2,
       "version_minor": 0
      },
      "text/plain": [
       "Validation: |          | 0/? [00:00<?, ?it/s]"
      ]
     },
     "metadata": {},
     "output_type": "display_data"
    },
    {
     "data": {
      "application/vnd.jupyter.widget-view+json": {
       "model_id": "beb9583f160940d5b32fad9db888d84c",
       "version_major": 2,
       "version_minor": 0
      },
      "text/plain": [
       "Validation: |          | 0/? [00:00<?, ?it/s]"
      ]
     },
     "metadata": {},
     "output_type": "display_data"
    },
    {
     "data": {
      "application/vnd.jupyter.widget-view+json": {
       "model_id": "e69bd15b890b4fd4af376830e07f4bde",
       "version_major": 2,
       "version_minor": 0
      },
      "text/plain": [
       "Validation: |          | 0/? [00:00<?, ?it/s]"
      ]
     },
     "metadata": {},
     "output_type": "display_data"
    },
    {
     "name": "stderr",
     "output_type": "stream",
     "text": [
      "`Trainer.fit` stopped: `max_epochs=10` reached.\n"
     ]
    }
   ],
   "source": [
    "trainer = lightning.Trainer(max_epochs=10, enable_checkpointing=False)\n",
    "trainer.fit(module, train_dataloader, val_dataloader)"
   ]
  },
  {
   "cell_type": "code",
   "execution_count": 71,
   "metadata": {},
   "outputs": [
    {
     "data": {
      "text/plain": [
       "KarrasModule(\n",
       "  (model): PUNetG(\n",
       "    (time_projection): GaussianFourierProjection()\n",
       "    (conditional_embedding): Embedder(\n",
       "      (embedding): Embedding(10, 32)\n",
       "      (net): SwiGLUMLP(\n",
       "        (linear1): Linear(in_features=32, out_features=256, bias=True)\n",
       "        (linear2): Linear(in_features=128, out_features=32, bias=True)\n",
       "      )\n",
       "    )\n",
       "    (convin): Conv2d(1, 32, kernel_size=(3, 3), stride=(1, 1), padding=same)\n",
       "    (convout): Conv2d(32, 1, kernel_size=(3, 3), stride=(1, 1), padding=same)\n",
       "    (downward_blocks): ModuleList(\n",
       "      (0): ModuleList(\n",
       "        (0-1): 2 x ResnetBlockC(\n",
       "          (act): SiLU()\n",
       "          (gnorm1): GroupNorm(32, 32, eps=1e-05, affine=True)\n",
       "          (gnorm2): GroupRMSNorm()\n",
       "          (conv1): Conv2d(32, 32, kernel_size=(3, 3), stride=(1, 1), padding=same)\n",
       "          (conv2): Conv2d(32, 32, kernel_size=(3, 3), stride=(1, 1), padding=same)\n",
       "          (dropout): Dropout(p=0.0, inplace=False)\n",
       "          (timeblock): ResnetTimeBlock(\n",
       "            (net): Sequential(\n",
       "              (0): Linear(in_features=32, out_features=128, bias=True)\n",
       "              (1): SiLU()\n",
       "              (2): Linear(in_features=128, out_features=128, bias=True)\n",
       "              (3): SiLU()\n",
       "              (4): Linear(in_features=128, out_features=32, bias=True)\n",
       "            )\n",
       "          )\n",
       "        )\n",
       "      )\n",
       "      (1): ModuleList(\n",
       "        (0-1): 2 x ResnetBlockC(\n",
       "          (act): SiLU()\n",
       "          (gnorm1): GroupNorm(64, 64, eps=1e-05, affine=True)\n",
       "          (gnorm2): GroupRMSNorm()\n",
       "          (conv1): Conv2d(64, 64, kernel_size=(3, 3), stride=(1, 1), padding=same)\n",
       "          (conv2): Conv2d(64, 64, kernel_size=(3, 3), stride=(1, 1), padding=same)\n",
       "          (dropout): Dropout(p=0.0, inplace=False)\n",
       "          (timeblock): ResnetTimeBlock(\n",
       "            (net): Sequential(\n",
       "              (0): Linear(in_features=32, out_features=128, bias=True)\n",
       "              (1): SiLU()\n",
       "              (2): Linear(in_features=128, out_features=128, bias=True)\n",
       "              (3): SiLU()\n",
       "              (4): Linear(in_features=128, out_features=64, bias=True)\n",
       "            )\n",
       "          )\n",
       "        )\n",
       "      )\n",
       "    )\n",
       "    (downsamplers): ModuleList(\n",
       "      (0): DownSampler(\n",
       "        (conv): Conv2d(32, 64, kernel_size=(3, 3), stride=(1, 1), padding=same)\n",
       "        (downsampler): MaxPool2d(kernel_size=2, stride=2, padding=0, dilation=1, ceil_mode=False)\n",
       "      )\n",
       "      (1): DownSampler(\n",
       "        (conv): Conv2d(64, 128, kernel_size=(3, 3), stride=(1, 1), padding=same)\n",
       "        (downsampler): MaxPool2d(kernel_size=2, stride=2, padding=0, dilation=1, ceil_mode=False)\n",
       "      )\n",
       "    )\n",
       "    (upward_blocks): ModuleList(\n",
       "      (0): ModuleList(\n",
       "        (0-1): 2 x ResnetBlockC(\n",
       "          (act): SiLU()\n",
       "          (gnorm1): GroupNorm(64, 64, eps=1e-05, affine=True)\n",
       "          (gnorm2): GroupRMSNorm()\n",
       "          (conv1): Conv2d(64, 64, kernel_size=(3, 3), stride=(1, 1), padding=same)\n",
       "          (conv2): Conv2d(64, 64, kernel_size=(3, 3), stride=(1, 1), padding=same)\n",
       "          (dropout): Dropout(p=0.0, inplace=False)\n",
       "          (timeblock): ResnetTimeBlock(\n",
       "            (net): Sequential(\n",
       "              (0): Linear(in_features=32, out_features=128, bias=True)\n",
       "              (1): SiLU()\n",
       "              (2): Linear(in_features=128, out_features=128, bias=True)\n",
       "              (3): SiLU()\n",
       "              (4): Linear(in_features=128, out_features=64, bias=True)\n",
       "            )\n",
       "          )\n",
       "        )\n",
       "      )\n",
       "      (1): ModuleList(\n",
       "        (0-1): 2 x ResnetBlockC(\n",
       "          (act): SiLU()\n",
       "          (gnorm1): GroupNorm(32, 32, eps=1e-05, affine=True)\n",
       "          (gnorm2): GroupRMSNorm()\n",
       "          (conv1): Conv2d(32, 32, kernel_size=(3, 3), stride=(1, 1), padding=same)\n",
       "          (conv2): Conv2d(32, 32, kernel_size=(3, 3), stride=(1, 1), padding=same)\n",
       "          (dropout): Dropout(p=0.0, inplace=False)\n",
       "          (timeblock): ResnetTimeBlock(\n",
       "            (net): Sequential(\n",
       "              (0): Linear(in_features=32, out_features=128, bias=True)\n",
       "              (1): SiLU()\n",
       "              (2): Linear(in_features=128, out_features=128, bias=True)\n",
       "              (3): SiLU()\n",
       "              (4): Linear(in_features=128, out_features=32, bias=True)\n",
       "            )\n",
       "          )\n",
       "        )\n",
       "      )\n",
       "    )\n",
       "    (upsamplers): ModuleList(\n",
       "      (0): UpSampler(\n",
       "        (conv): Conv2d(128, 64, kernel_size=(3, 3), stride=(1, 1), padding=same)\n",
       "        (upsampler): Upsample(scale_factor=2.0, mode='nearest')\n",
       "      )\n",
       "      (1): UpSampler(\n",
       "        (conv): Conv2d(64, 32, kernel_size=(3, 3), stride=(1, 1), padding=same)\n",
       "        (upsampler): Upsample(scale_factor=2.0, mode='nearest')\n",
       "      )\n",
       "    )\n",
       "    (before_block): ModuleList(\n",
       "      (0-1): 2 x ResnetBlockC(\n",
       "        (act): SiLU()\n",
       "        (gnorm1): GroupNorm(128, 128, eps=1e-05, affine=True)\n",
       "        (gnorm2): GroupRMSNorm()\n",
       "        (conv1): Conv2d(128, 128, kernel_size=(3, 3), stride=(1, 1), padding=same)\n",
       "        (conv2): Conv2d(128, 128, kernel_size=(3, 3), stride=(1, 1), padding=same)\n",
       "        (dropout): Dropout(p=0.0, inplace=False)\n",
       "        (timeblock): ResnetTimeBlock(\n",
       "          (net): Sequential(\n",
       "            (0): Linear(in_features=32, out_features=128, bias=True)\n",
       "            (1): SiLU()\n",
       "            (2): Linear(in_features=128, out_features=128, bias=True)\n",
       "            (3): SiLU()\n",
       "            (4): Linear(in_features=128, out_features=128, bias=True)\n",
       "          )\n",
       "        )\n",
       "      )\n",
       "    )\n",
       "    (after_block): ModuleList(\n",
       "      (0-1): 2 x ResnetBlockC(\n",
       "        (act): SiLU()\n",
       "        (gnorm1): GroupNorm(128, 128, eps=1e-05, affine=True)\n",
       "        (gnorm2): GroupRMSNorm()\n",
       "        (conv1): Conv2d(128, 128, kernel_size=(3, 3), stride=(1, 1), padding=same)\n",
       "        (conv2): Conv2d(128, 128, kernel_size=(3, 3), stride=(1, 1), padding=same)\n",
       "        (dropout): Dropout(p=0.0, inplace=False)\n",
       "        (timeblock): ResnetTimeBlock(\n",
       "          (net): Sequential(\n",
       "            (0): Linear(in_features=32, out_features=128, bias=True)\n",
       "            (1): SiLU()\n",
       "            (2): Linear(in_features=128, out_features=128, bias=True)\n",
       "            (3): SiLU()\n",
       "            (4): Linear(in_features=128, out_features=128, bias=True)\n",
       "          )\n",
       "        )\n",
       "      )\n",
       "    )\n",
       "    (attn_resnet_block): ModuleList(\n",
       "      (0-1): 2 x ResnetBlockC(\n",
       "        (act): SiLU()\n",
       "        (gnorm1): GroupNorm(128, 128, eps=1e-05, affine=True)\n",
       "        (gnorm2): GroupRMSNorm()\n",
       "        (conv1): Conv2d(128, 128, kernel_size=(3, 3), stride=(1, 1), padding=same)\n",
       "        (conv2): Conv2d(128, 128, kernel_size=(3, 3), stride=(1, 1), padding=same)\n",
       "        (dropout): Dropout(p=0.0, inplace=False)\n",
       "        (timeblock): ResnetTimeBlock(\n",
       "          (net): Sequential(\n",
       "            (0): Linear(in_features=32, out_features=128, bias=True)\n",
       "            (1): SiLU()\n",
       "            (2): Linear(in_features=128, out_features=128, bias=True)\n",
       "            (3): SiLU()\n",
       "            (4): Linear(in_features=128, out_features=128, bias=True)\n",
       "          )\n",
       "        )\n",
       "      )\n",
       "    )\n",
       "    (attn_block): ModuleList(\n",
       "      (0): TwoDimensionalAttention(\n",
       "        (mhattn): MultiheadAttention(\n",
       "          (out_proj): NonDynamicallyQuantizableLinear(in_features=128, out_features=128, bias=True)\n",
       "        )\n",
       "      )\n",
       "    )\n",
       "    (cond_dropout): Dropout(p=0.0, inplace=False)\n",
       "  )\n",
       "  (loss_metric): HuberLoss()\n",
       ")"
      ]
     },
     "execution_count": 71,
     "metadata": {},
     "output_type": "execute_result"
    }
   ],
   "source": [
    "module.to(\"cuda\")"
   ]
  },
  {
   "cell_type": "code",
   "execution_count": 83,
   "metadata": {},
   "outputs": [],
   "source": [
    "sample = module.sample(nsamples=16, shape=[1, 28, 28], y=torch.tensor(6))"
   ]
  },
  {
   "cell_type": "code",
   "execution_count": 84,
   "metadata": {},
   "outputs": [
    {
     "data": {
      "image/png": "[encoded data removed]",
      "text/plain": [
       "<Figure size 800x800 with 16 Axes>"
      ]
     },
     "metadata": {},
     "output_type": "display_data"
    }
   ],
   "source": [
    "plt.figure(figsize=(8,8))\n",
    "for i in range(16):\n",
    "    plt.subplot(4,4,i+1)\n",
    "    plt.imshow(sample[i,0].cpu(), cmap='gray')\n",
    "    plt.axis('off')\n",
    "plt.tight_layout()"
   ]
  },
  {
   "cell_type": "code",
   "execution_count": null,
   "metadata": {},
   "outputs": [],
   "source": []
  }
 ],
 "metadata": {
  "kernelspec": {
   "display_name": "ddpm_env",
   "language": "python",
   "name": "python3"
  },
  "language_info": {
   "codemirror_mode": {
    "name": "ipython",
    "version": 3
   },
   "file_extension": ".py",
   "mimetype": "text/x-python",
   "name": "python",
   "nbconvert_exporter": "python",
   "pygments_lexer": "ipython3",
   "version": "3.11.5"
  }
 },
 "nbformat": 4,
 "nbformat_minor": 2
}
