{
 "cells": [
  {
   "cell_type": "code",
   "execution_count": 7,
   "metadata": {},
   "outputs": [
    {
     "name": "stdout",
     "output_type": "stream",
     "text": [
      "The autoreload extension is already loaded. To reload it, use:\n",
      "  %reload_ext autoreload\n"
     ]
    }
   ],
   "source": [
    "%load_ext autoreload\n",
    "%autoreload 2"
   ]
  },
  {
   "cell_type": "code",
   "execution_count": 8,
   "metadata": {},
   "outputs": [],
   "source": [
    "import pathlib\n",
    "import multiprocessing\n",
    "\n",
    "import numpy as np\n",
    "import matplotlib.pyplot as plt\n",
    "import torch\n",
    "import torchvision\n",
    "import torchvision.transforms.v2 as transforms\n",
    "import lightning\n",
    "import lightning.pytorch.callbacks as callbacks\n",
    "\n",
    "import diffsci.models"
   ]
  },
  {
   "cell_type": "code",
   "execution_count": 9,
   "metadata": {},
   "outputs": [],
   "source": [
    "MAINFOLDER = pathlib.Path(\"../..\")  # This leads to the main folder\n",
    "DATAFOLDER = MAINFOLDER/\"saveddata\"  # This leads to the data folder\n",
    "MODELSFOLDER = MAINFOLDER/\"savedmodels\" #This leads to the models folder\n",
    "EXTERNALDATAFOLDER = DATAFOLDER/'external'  # This leads to the external data folder"
   ]
  },
  {
   "cell_type": "code",
   "execution_count": 37,
   "metadata": {},
   "outputs": [],
   "source": [
    "class UnlabeledMNISTDataset(torch.utils.data.Dataset):\n",
    "    def __init__(self, mnist_dataset):\n",
    "        self.mnist_dataset = mnist_dataset\n",
    "\n",
    "    def __len__(self):\n",
    "        return len(self.mnist_dataset)\n",
    "\n",
    "    def __getitem__(self, idx):\n",
    "        x, y = self.mnist_dataset[idx]\n",
    "        return x, y\n",
    "\n",
    "mnist_dataset = torchvision.datasets.MNIST(EXTERNALDATAFOLDER,\n",
    "                                           train=True,\n",
    "                                           transform=torchvision.transforms.ToTensor(),\n",
    "                                           download=True)\n",
    "\n",
    "unlabeled_mnist_dataset = UnlabeledMNISTDataset(mnist_dataset)\n"
   ]
  },
  {
   "cell_type": "code",
   "execution_count": 38,
   "metadata": {},
   "outputs": [],
   "source": [
    "batch_size = 16\n",
    "p_split = 0.8\n",
    "num_workers = multiprocessing.cpu_count() - 2\n",
    "\n",
    "num_train_dataset = int(len(unlabeled_mnist_dataset)*p_split)\n",
    "num_valid_dataset = len(unlabeled_mnist_dataset) - num_train_dataset\n",
    "train_dataset, val_dataset = torch.utils.data.random_split(unlabeled_mnist_dataset,\n",
    "                                                           [num_train_dataset, num_valid_dataset])\n",
    "train_dataloader = torch.utils.data.DataLoader(train_dataset,\n",
    "                                               batch_size=batch_size,\n",
    "                                               shuffle=True,\n",
    "                                               num_workers=num_workers)\n",
    "val_dataloader = torch.utils.data.DataLoader(val_dataset,\n",
    "                                             batch_size=batch_size,\n",
    "                                             shuffle=False,\n",
    "                                             num_workers=num_workers)"
   ]
  },
  {
   "cell_type": "code",
   "execution_count": 39,
   "metadata": {},
   "outputs": [
    {
     "data": {
      "text/plain": [
       "torch.Size([16])"
      ]
     },
     "execution_count": 39,
     "metadata": {},
     "output_type": "execute_result"
    }
   ],
   "source": [
    "next(iter(train_dataloader))[1].shape"
   ]
  },
  {
   "cell_type": "code",
   "execution_count": 59,
   "metadata": {},
   "outputs": [],
   "source": [
    "class SwiGLUMLP(torch.nn.Module):\n",
    "    def __init__(self,\n",
    "                 in_features,\n",
    "                 out_features,\n",
    "                 n_hidden):\n",
    "        super().__init__()\n",
    "        self.linear1 = torch.nn.Linear(in_features, 2 * n_hidden)\n",
    "        self.linear2 = torch.nn.Linear(n_hidden, out_features)\n",
    "\n",
    "    def forward(self, x):\n",
    "        y = self.linear1(x)\n",
    "        y = torch.chunk(y, 2, dim=-1)\n",
    "        y = torch.nn.functional.silu(y[0]) * y[1]\n",
    "        y = self.linear2(y)\n",
    "        return y\n",
    "\n",
    "\n",
    "class Embedder(torch.nn.Module):\n",
    "    def __init__(self,\n",
    "                 ntokens: int = 10,\n",
    "                 dembed: int = 32,\n",
    "                 ffn_expansion: int = 4,\n",
    "                 ):\n",
    "        super().__init__()\n",
    "        self.embedding = torch.nn.Embedding(ntokens, dembed)\n",
    "        self.net = SwiGLUMLP(dembed, dembed, dembed*ffn_expansion)\n",
    "\n",
    "    def forward(self, x):\n",
    "        xe = self.embedding(x)\n",
    "        y = self.net(xe)\n",
    "        return y + xe\n",
    "\n",
    "embedder = Embedder()\n"
   ]
  },
  {
   "cell_type": "code",
   "execution_count": 60,
   "metadata": {},
   "outputs": [],
   "source": [
    "modelconfig = diffsci.models.PUNetGConfig(model_channels=32)\n",
    "model = diffsci.models.PUNetG(modelconfig, conditional_embedding=embedder)\n",
    "moduleconfig = diffsci.models.KarrasModuleConfig.from_edm()\n",
    "module = diffsci.models.KarrasModule(model, moduleconfig, conditional=True)\n",
    "optimizer = torch.optim.Adam(module.parameters(), lr=1e-3)\n",
    "module.set_optimizer_and_scheduler(optimizer)"
   ]
  },
  {
   "cell_type": "code",
   "execution_count": 61,
   "metadata": {},
   "outputs": [
    {
     "name": "stderr",
     "output_type": "stream",
     "text": [
      "GPU available: True (cuda), used: True\n",
      "TPU available: False, using: 0 TPU cores\n",
      "HPU available: False, using: 0 HPUs\n",
      "LOCAL_RANK: 0 - CUDA_VISIBLE_DEVICES: [0]\n",
      "\n",
      "  | Name        | Type      | Params | Mode \n",
      "--------------------------------------------------\n",
      "0 | model       | PUNetG    | 2.8 M  | train\n",
      "1 | loss_metric | HuberLoss | 0      | train\n",
      "--------------------------------------------------\n",
      "2.8 M     Trainable params\n",
      "0         Non-trainable params\n",
      "2.8 M     Total params\n",
      "11.392    Total estimated model params size (MB)\n"
     ]
    },
    {
     "data": {
      "application/vnd.jupyter.widget-view+json": {
       "model_id": "17393b34d80f4b9daa5c0e036abe088d",
       "version_major": 2,
       "version_minor": 0
      },
      "text/plain": [
       "Sanity Checking: |          | 0/? [00:00<?, ?it/s]"
      ]
     },
     "metadata": {},
     "output_type": "display_data"
    },
    {
     "data": {
      "application/vnd.jupyter.widget-view+json": {
       "model_id": "48d61535d61f436ab8bac36e035b7d48",
       "version_major": 2,
       "version_minor": 0
      },
      "text/plain": [
       "Training: |          | 0/? [00:00<?, ?it/s]"
      ]
     },
     "metadata": {},
     "output_type": "display_data"
    },
    {
     "name": "stderr",
     "output_type": "stream",
     "text": [
      "/home/dfnaiff/miniconda3/envs/ddpm_env/lib/python3.11/site-packages/lightning/pytorch/trainer/call.py:54: Detected KeyboardInterrupt, attempting graceful shutdown...\n"
     ]
    }
   ],
   "source": [
    "trainer = lightning.Trainer(max_epochs=10, enable_checkpointing=False)\n",
    "trainer.fit(module, train_dataloader, val_dataloader)"
   ]
  },
  {
   "cell_type": "code",
   "execution_count": 56,
   "metadata": {},
   "outputs": [],
   "source": [
    "sample = module.sample(nsamples=1, shape=[1, 28, 28], y=torch.tensor(1))"
   ]
  },
  {
   "cell_type": "code",
   "execution_count": 57,
   "metadata": {},
   "outputs": [
    {
     "data": {
      "text/plain": [
       "<matplotlib.image.AxesImage at 0x74cf5a1113d0>"
      ]
     },
     "execution_count": 57,
     "metadata": {},
     "output_type": "execute_result"
    },
    {
     "data": {
      "image/png": "[encoded data removed]",
      "text/plain": [
       "<Figure size 640x480 with 1 Axes>"
      ]
     },
     "metadata": {},
     "output_type": "display_data"
    }
   ],
   "source": [
    "plt.imshow(sample.squeeze().cpu().numpy(), cmap=\"gray\")"
   ]
  },
  {
   "cell_type": "code",
   "execution_count": null,
   "metadata": {},
   "outputs": [],
   "source": []
  }
 ],
 "metadata": {
  "kernelspec": {
   "display_name": "ddpm_env",
   "language": "python",
   "name": "python3"
  },
  "language_info": {
   "codemirror_mode": {
    "name": "ipython",
    "version": 3
   },
   "file_extension": ".py",
   "mimetype": "text/x-python",
   "name": "python",
   "nbconvert_exporter": "python",
   "pygments_lexer": "ipython3",
   "version": "3.11.5"
  }
 },
 "nbformat": 4,
 "nbformat_minor": 2
}
